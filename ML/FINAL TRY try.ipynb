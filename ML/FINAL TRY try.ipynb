{
 "cells": [
  {
   "cell_type": "code",
   "execution_count": 25,
   "metadata": {},
   "outputs": [],
   "source": [
    "import pandas as pd\n",
    "df=pd.read_csv('C:/Users/aishw/Downloads/transaction_history.csv')\n",
    "user_ids = df['from'].unique()\n",
    "user_dataframes = []\n"
   ]
  },
  {
   "cell_type": "code",
   "execution_count": 26,
   "metadata": {},
   "outputs": [],
   "source": [
    "for user_id in user_ids:\n",
    "    user_df = df[df['from'] == user_id]\n",
    "    user_dataframes.append(user_df)\n",
    "from sklearn.ensemble import IsolationForest\n",
    "import numpy as np\n",
    "import matplotlib.pyplot as plt"
   ]
  },
  {
   "cell_type": "code",
   "execution_count": 27,
   "metadata": {},
   "outputs": [
    {
     "name": "stdout",
     "output_type": "stream",
     "text": [
      "Potential Outlier:\n",
      "TimeStamp: 1684434096\n",
      "Amount: 13000000000000000000000\n",
      "User:  0x569402e6d161155e6c77632ac35908305da4e7a0\n",
      "To:  0x45a23c7bf6d05e413a64294c9f970bbca0f25433\n",
      "\n",
      "Potential Outlier:\n",
      "TimeStamp: 1733744721\n",
      "Amount: 1400000000000000000\n",
      "User:  0x569402e6d161155e6c77632ac35908305da4e7a0\n",
      "To:  0x632d0c88ebe5f70942402f3ebbd8627b5b60aa39\n",
      "\n",
      "Potential Outlier:\n",
      "TimeStamp: 1675714097\n",
      "Amount: -209968375880067000\n",
      "User:  0x45a23c7bf6d05e413a64294c9f970bbca0f25433\n",
      "To:  0xe25c5b82567b15d214ea6af3e9c17e0a81ec20ed\n",
      "\n",
      "Potential Outlier:\n",
      "TimeStamp: 1684434172\n",
      "Amount: 50000000000000000000000\n",
      "User:  0x45a23c7bf6d05e413a64294c9f970bbca0f25433\n",
      "To:  0x7a56d8e4c360ea180801a2910e197b6d6a5a1f85\n",
      "\n",
      "Potential Outlier:\n",
      "TimeStamp: 1698577131\n",
      "Amount: 700000000000000000\n",
      "User:  0x45a23c7bf6d05e413a64294c9f970bbca0f25433\n",
      "To:  0xe25c5b82567b15d214ea6af3e9c17e0a81ec20ed\n",
      "\n",
      "Potential Outlier:\n",
      "TimeStamp: 1730484046\n",
      "Amount: -7100000000000000000000\n",
      "User:  0x7a56d8e4c360ea180801a2910e197b6d6a5a1f85\n",
      "To:  0x632d0c88ebe5f70942402f3ebbd8627b5b60aa39\n",
      "\n",
      "Potential Outlier:\n",
      "TimeStamp: 1684434193\n",
      "Amount: 920000000000000000\n",
      "User:  0x7a56d8e4c360ea180801a2910e197b6d6a5a1f85\n",
      "To:  0x569402e6d161155e6c77632ac35908305da4e7a0\n",
      "\n"
     ]
    }
   ],
   "source": [
    "user_models = []\n",
    "for user_df in user_dataframes:\n",
    "    X = user_df['value']  # Select the features for training\n",
    "    \n",
    "\n",
    "    isolation_forest = IsolationForest(contamination=0.05)  # Adjust the contamination parameter as needed\n",
    "\n",
    "    # Fit the algorithm to the data\n",
    "    isolation_forest.fit(np.array(X).reshape(-1, 1))\n",
    "\n",
    "    # Obtain anomaly scores for each data point\n",
    "    anomaly_scores = isolation_forest.decision_function(np.array(X).reshape(-1, 1))\n",
    "\n",
    "    # Identify potential outliers based on anomaly scores\n",
    "    outliers = user_df[anomaly_scores < 0]\n",
    "\n",
    "    # Investigate outliers\n",
    "    for index, row in outliers.iterrows():\n",
    "        print(\"Potential Outlier:\")\n",
    "        print(\"TimeStamp:\", row['timeStamp'])\n",
    "        print(\"Amount:\", row['value'])\n",
    "        # print(\"Type:\", row['Type'])\n",
    "        print(\"User: \", row['from'])\n",
    "        print(\"To: \", row['to'])\n",
    "        print()\n",
    "        user_transactions = user_df[user_df['from'] == row['from']]\n",
    "\n",
    "        # Plot time series graph for the user's transactions\n",
    "        #plt.plot(user_transactions['timeStamp'], user_transactions['value'])\n",
    "       # plt.xlabel('Time')\n",
    "       # plt.ylabel('Transaction Value')\n",
    "       # plt.title('Time Series Graph for User: ' + row['from'])\n",
    "       # plt.show()"
   ]
  },
  {
   "cell_type": "code",
   "execution_count": 28,
   "metadata": {},
   "outputs": [
    {
     "name": "stdout",
     "output_type": "stream",
     "text": [
      "TimeStamp: 1684434096\n",
      "Amount: 13000000000000000000000\n",
      "User:  0x569402e6d161155e6c77632ac35908305da4e7a0\n",
      "To:  0x45a23c7bf6d05e413a64294c9f970bbca0f25433\n",
      "\n",
      "TimeStamp: 1675714097\n",
      "Amount: -209968375880067000\n",
      "User:  0x45a23c7bf6d05e413a64294c9f970bbca0f25433\n",
      "To:  0xe25c5b82567b15d214ea6af3e9c17e0a81ec20ed\n",
      "\n",
      "TimeStamp: 1730484046\n",
      "Amount: -7100000000000000000000\n",
      "User:  0x7a56d8e4c360ea180801a2910e197b6d6a5a1f85\n",
      "To:  0x632d0c88ebe5f70942402f3ebbd8627b5b60aa39\n",
      "\n"
     ]
    }
   ],
   "source": [
    "user_models = []\n",
    "for user_df in user_dataframes:\n",
    "    X = user_df['value']  # Select the features for training\n",
    "    \n",
    "\n",
    "    isolation_forest = IsolationForest(contamination=0.05)  # Adjust the contamination parameter as needed\n",
    "\n",
    "    # Fit the algorithm to the data\n",
    "    isolation_forest.fit(np.array(X).reshape(-1, 1))\n",
    "\n",
    "    # Obtain anomaly scores for each data point\n",
    "    anomaly_scores = isolation_forest.decision_function(np.array(X).reshape(-1, 1))\n",
    "\n",
    "    # Identify potential outliers based on anomaly scores\n",
    "    outliers = user_df[anomaly_scores < 0]\n",
    "    temp=''\n",
    "    # Investigate outliers\n",
    "    for index, row in outliers.iterrows():\n",
    "        temp=row['to']\n",
    "        print(\"TimeStamp:\", row['timeStamp'])\n",
    "        print(\"Amount:\", row['value'])\n",
    "        # print(\"Type:\", row['Type'])\n",
    "        print(\"User: \", row['from'])\n",
    "        print(\"To: \", row['to'])\n",
    "        print()\n",
    "        break\n",
    "\n",
    "for index, row in outliers.iterrows():\n",
    "    if (row['from']== temp):\n",
    "        print(\"TimeStamp:\", row['timeStamp'])\n",
    "        print(\"Amount:\", row['value'])\n",
    "        # print(\"Type:\", row['Type'])\n",
    "        print(\"User: \", row['from'])\n",
    "        print(\"To: \", row['to'])\n",
    "        print()\n",
    "        "
   ]
  },
  {
   "cell_type": "code",
   "execution_count": null,
   "metadata": {},
   "outputs": [],
   "source": []
  }
 ],
 "metadata": {
  "kernelspec": {
   "display_name": "Python 3",
   "language": "python",
   "name": "python3"
  },
  "language_info": {
   "codemirror_mode": {
    "name": "ipython",
    "version": 3
   },
   "file_extension": ".py",
   "mimetype": "text/x-python",
   "name": "python",
   "nbconvert_exporter": "python",
   "pygments_lexer": "ipython3",
   "version": "3.9.13"
  },
  "orig_nbformat": 4
 },
 "nbformat": 4,
 "nbformat_minor": 2
}
