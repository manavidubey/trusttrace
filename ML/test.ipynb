{
 "cells": [
  {
   "cell_type": "code",
   "execution_count": 1,
   "metadata": {},
   "outputs": [],
   "source": []
  },
  {
   "cell_type": "code",
   "execution_count": 10,
   "metadata": {},
   "outputs": [
    {
     "name": "stdout",
     "output_type": "stream",
     "text": [
      "Potential Outlier:\n",
      "amount: 500.0\n"
     ]
    }
   ],
   "source": [
    "import pandas as pd\n",
    "from sklearn.ensemble import IsolationForest\n",
    "\n",
    "\n",
    "df = pd.read_csv('transaction_history.csv')\n",
    "\n",
    "\n",
    "X = df[['amount']]\n",
    "\n",
    "isolation_forest = IsolationForest(contamination=0.05)  \n",
    "\n",
    "\n",
    "isolation_forest.fit(X)\n",
    "\n",
    "\n",
    "anomaly_scores = isolation_forest.decision_function(X)\n",
    "\n",
    "\n",
    "outliers = df[anomaly_scores < 0]\n",
    "\n",
    "\n",
    "for index, row in outliers.iterrows():\n",
    "    print(\"Potential Outlier:\")\n",
    "   \n",
    "    print(\"amount:\", row['amount'])\n",
    "    # print(\"Type:\", row['Type'])\n",
    "    # print()"
   ]
  },
  {
   "cell_type": "code",
   "execution_count": null,
   "metadata": {},
   "outputs": [],
   "source": []
  },
  {
   "cell_type": "code",
   "execution_count": null,
   "metadata": {},
   "outputs": [],
   "source": []
  }
 ],
 "metadata": {
  "kernelspec": {
   "display_name": "Python 3",
   "language": "python",
   "name": "python3"
  },
  "language_info": {
   "codemirror_mode": {
    "name": "ipython",
    "version": 3
   },
   "file_extension": ".py",
   "mimetype": "text/x-python",
   "name": "python",
   "nbconvert_exporter": "python",
   "pygments_lexer": "ipython3",
   "version": "3.9.13"
  },
  "orig_nbformat": 4
 },
 "nbformat": 4,
 "nbformat_minor": 2
}
